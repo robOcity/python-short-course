{
 "cells": [
  {
   "cell_type": "markdown",
   "metadata": {},
   "source": [
    "# Using Python for Calculations"
   ]
  },
  {
   "cell_type": "code",
   "execution_count": 1,
   "metadata": {
    "collapsed": true
   },
   "outputs": [],
   "source": [
    "# add additional math functions to your program by importing the math package\n",
    "import math"
   ]
  },
  {
   "cell_type": "code",
   "execution_count": 2,
   "metadata": {
    "collapsed": false
   },
   "outputs": [
    {
     "data": {
      "text/plain": [
       "2.0000000000000004"
      ]
     },
     "execution_count": 2,
     "metadata": {},
     "output_type": "execute_result"
    }
   ],
   "source": [
    "# numbers are handled differently in a computer than they are mathematically\n",
    "math.sqrt(2) ** 2"
   ]
  },
  {
   "cell_type": "code",
   "execution_count": 3,
   "metadata": {},
   "outputs": [
    {
     "data": {
      "text/plain": [
       "False"
      ]
     },
     "execution_count": 3,
     "metadata": {},
     "output_type": "execute_result"
    }
   ],
   "source": [
    "# algebraiclly this is true, but not in a computer due to limited space to represent irrational numbers\n",
    "2.0 == math.sqrt(2) ** 2"
   ]
  },
  {
   "cell_type": "code",
   "execution_count": 4,
   "metadata": {},
   "outputs": [],
   "source": [
    "# assign values to x and y\n",
    "x = 12\n",
    "y = 6"
   ]
  },
  {
   "cell_type": "code",
   "execution_count": 5,
   "metadata": {},
   "outputs": [],
   "source": [
    "# precedence controls the order that operations are evaluated\n",
    "# PEMDAS = Parentheses, Exponentiation, Multiplication, Division, Addition and Subtraction"
   ]
  },
  {
   "cell_type": "code",
   "execution_count": 6,
   "metadata": {
    "collapsed": false
   },
   "outputs": [
    {
     "data": {
      "text/plain": [
       "15.0"
      ]
     },
     "execution_count": 6,
     "metadata": {},
     "output_type": "execute_result"
    }
   ],
   "source": [
    "x + y / 2"
   ]
  },
  {
   "cell_type": "code",
   "execution_count": 7,
   "metadata": {
    "collapsed": false
   },
   "outputs": [
    {
     "data": {
      "text/plain": [
       "36.0"
      ]
     },
     "execution_count": 7,
     "metadata": {},
     "output_type": "execute_result"
    }
   ],
   "source": [
    "(x * y) / 2"
   ]
  },
  {
   "cell_type": "code",
   "execution_count": 8,
   "metadata": {
    "collapsed": false
   },
   "outputs": [
    {
     "data": {
      "text/plain": [
       "50.26548245743669"
      ]
     },
     "execution_count": 8,
     "metadata": {},
     "output_type": "execute_result"
    }
   ],
   "source": [
    "# the math package has useful constants too\n",
    "r = 4\n",
    "math.pi * r ** 2"
   ]
  },
  {
   "cell_type": "code",
   "execution_count": 9,
   "metadata": {
    "collapsed": false
   },
   "outputs": [
    {
     "data": {
      "text/plain": [
       "13.4"
      ]
     },
     "execution_count": 9,
     "metadata": {},
     "output_type": "execute_result"
    }
   ],
   "source": [
    "# using expressions to find the length of the hypotenuse of a triangle\n",
    "sum_of_sides = x**2 + y**2\n",
    "# use the square root function from the math package\n",
    "hypot = math.sqrt(sum_of_sides)\n",
    "# round off the result to one decimal place\n",
    "round(hypot, 1)"
   ]
  },
  {
   "cell_type": "code",
   "execution_count": 10,
   "metadata": {
    "collapsed": false
   },
   "outputs": [],
   "source": [
    "# get values from the user\n",
    "soy_bid = input('Enter soybean price: ')\n",
    "soy_quantity = input('Enter number of bushels: ')"
   ]
  },
  {
   "cell_type": "code",
   "execution_count": 11,
   "metadata": {
    "collapsed": false
   },
   "outputs": [
    {
     "name": "stdout",
     "output_type": "stream",
     "text": [
      "soy_bid: 1028.43 <class 'str'>\n",
      "soy_quantity: 1000 <class 'str'>\n"
     ]
    }
   ],
   "source": [
    "# print out what we recieved\n",
    "print('soy_bid:', soy_bid, type(soy_bid))\n",
    "print('soy_quantity:', soy_quantity, type(soy_quantity))"
   ]
  },
  {
   "cell_type": "code",
   "execution_count": 12,
   "metadata": {},
   "outputs": [
    {
     "ename": "TypeError",
     "evalue": "can't multiply sequence by non-int of type 'str'",
     "output_type": "error",
     "traceback": [
      "\u001b[0;31m---------------------------------------------------------------------------\u001b[0m",
      "\u001b[0;31mTypeError\u001b[0m                                 Traceback (most recent call last)",
      "\u001b[0;32m<ipython-input-12-beef117a5b54>\u001b[0m in \u001b[0;36m<module>\u001b[0;34m()\u001b[0m\n\u001b[1;32m      1\u001b[0m \u001b[0;31m# what happens if we multiply two strings together?  >>>> ERROR <<<<<\u001b[0m\u001b[0;34m\u001b[0m\u001b[0;34m\u001b[0m\u001b[0m\n\u001b[0;32m----> 2\u001b[0;31m \u001b[0msoy_bid\u001b[0m \u001b[0;34m*\u001b[0m \u001b[0msoy_quantity\u001b[0m\u001b[0;34m\u001b[0m\u001b[0m\n\u001b[0m",
      "\u001b[0;31mTypeError\u001b[0m: can't multiply sequence by non-int of type 'str'"
     ]
    }
   ],
   "source": [
    "# what happens if we multiply two strings together?  >>>> ERROR <<<<<\n",
    "soy_bid * soy_quantity"
   ]
  },
  {
   "cell_type": "code",
   "execution_count": 13,
   "metadata": {},
   "outputs": [],
   "source": [
    "# we need to convert them to numeric values first using the float() and int() functions\n",
    "soy_bid = float(soy_bid)\n",
    "soy_quantity = int(soy_quantity)"
   ]
  },
  {
   "cell_type": "code",
   "execution_count": 14,
   "metadata": {},
   "outputs": [
    {
     "name": "stdout",
     "output_type": "stream",
     "text": [
      "soy_bid: 1028.43 <class 'float'>\n",
      "soy_quantity: 1000 <class 'int'>\n"
     ]
    }
   ],
   "source": [
    "# now we have numbers\n",
    "print('soy_bid:', soy_bid, type(soy_bid))\n",
    "print('soy_quantity:', soy_quantity, type(soy_quantity))"
   ]
  },
  {
   "cell_type": "code",
   "execution_count": 26,
   "metadata": {
    "collapsed": false
   },
   "outputs": [],
   "source": [
    "# let's imagine we trade options on the Chicago Board of Trade\n",
    "# see: http://quotes.ino.com/exchanges/exchange.html?e=CBOT\n",
    "cash = 1000000\n",
    "bid_cost = soy_bid * soy_quantity\n",
    "cash = cash - bid_cost"
   ]
  },
  {
   "cell_type": "code",
   "execution_count": 26,
   "metadata": {
    "collapsed": false
   },
   "outputs": [
    {
     "name": "stdout",
     "output_type": "stream",
     "text": [
      "Cash remaining: $  -28,430.00\n",
      "Bid cost:       $1,028,430.00\n"
     ]
    }
   ],
   "source": [
    "# python formatting explained at https://pyformat.info/\n",
    "print('Cash remaining: ${:12,.2f}'.format(cash))        \n",
    "print('Bid cost:       ${:12,.2f}'.format(bid_cost))"
   ]
  },
  {
   "cell_type": "code",
   "execution_count": null,
   "metadata": {},
   "outputs": [],
   "source": []
  }
 ],
 "metadata": {
  "kernelspec": {
   "display_name": "Python [default]",
   "language": "python",
   "name": "python3"
  },
  "language_info": {
   "codemirror_mode": {
    "name": "ipython",
    "version": 3
   },
   "file_extension": ".py",
   "mimetype": "text/x-python",
   "name": "python",
   "nbconvert_exporter": "python",
   "pygments_lexer": "ipython3",
   "version": "3.6.4"
  }
 },
 "nbformat": 4,
 "nbformat_minor": 2
}
