{
 "cells": [
  {
   "cell_type": "markdown",
   "metadata": {},
   "source": [
    "Reminder: these notebooks were created for Python3.  If using Python2, be aware there will be some differences:\n",
    "https://www.geeksforgeeks.org/important-differences-between-python-2-x-and-python-3-x-with-examples/"
   ]
  },
  {
   "cell_type": "markdown",
   "metadata": {},
   "source": [
    "This series of notebooks will introduce you to some of the basics in the Python language, and Jupyter notebooks.\n",
    "\n",
    "This first cell is called [markdown](https://github.com/adam-p/markdown-here/wiki/Markdown-Cheatsheet), which means you can format it to have different styles, etc.  Try double-clicking inside this cell to see what the raw markdown looks like.  Then press ctrl + enter (maybe cmd + enter on Mac) to execute the cell in-place.  Then press enter again to 'enter' the cell.  Next try pressing shift + enter to execute the cell, and move on to the next one."
   ]
  },
  {
   "cell_type": "code",
   "execution_count": 1,
   "metadata": {},
   "outputs": [
    {
     "name": "stdout",
     "output_type": "stream",
     "text": [
      "testing the jupyter notebook\n"
     ]
    }
   ],
   "source": [
    "# This is a normal code cell.  When we run this cell, it will output the result of our last line of code\n",
    "# to the screen just below the cell.  Select this cell (click in it) and press shift + enter to execute it.\n",
    "print('testing the jupyter notebook')"
   ]
  },
  {
   "cell_type": "markdown",
   "metadata": {},
   "source": [
    "# Navigation with the keyboard\n",
    "There are lots of shortcuts in Jupyter notebooks to speed up your workflow.  You should now have this cell selected, meaning it should be surrounded by a blue outline.  Press the up and down arrow keys to navigate to the cells above and below this one.  Now navigate to this cell again, so it has a blue outline.  Press the y key, and then the m key.  The 'y' key will change the cell to a code cell, and 'm' will change it back to a markdown cell.  This is a quick way to convert cells.  \n",
    "\n",
    "Now press 'enter' to enter the cell.  The cursor should be in the cell, and you can navigate around.  Press the up arrow key until you are in the cell above.  You can navigate line-by-line between cells like that.  Finally, press 'esc' to exit the cell.  Now press ctrl + enter (cmd + enter on Mac maybe) to execute the cell in-place."
   ]
  },
  {
   "cell_type": "markdown",
   "metadata": {},
   "source": [
    "# Other keyboard shortcuts\n",
    "\n",
    "Try pressing 'a' and 'b' now.  a will insert a cell above the currently selected cell, and b will insert one below.  Now select on of the empty cells by moving to it with the arrow keys (make sure you are not 'in' the cell, i.e. press esc if the cursor is visible), and press d twice.  This will delete the cell.\n",
    "\n",
    "There are a lot of keyboard shortcuts.  If you are not within a cell, you can press 'h' to see the list of shortcuts.  You can also go to Help -> Keyboard Shortcuts in the menu at the top.  There are a lot of keyboard shortcuts, but the introduction just now was the essentials.  Feel free to check out the list of keyboard shortcuts and use more that you like."
   ]
  }
 ],
 "metadata": {
  "kernelspec": {
   "display_name": "Python 3",
   "language": "python",
   "name": "python3"
  },
  "language_info": {
   "codemirror_mode": {
    "name": "ipython",
    "version": 3
   },
   "file_extension": ".py",
   "mimetype": "text/x-python",
   "name": "python",
   "nbconvert_exporter": "python",
   "pygments_lexer": "ipython3",
   "version": "3.6.5"
  }
 },
 "nbformat": 4,
 "nbformat_minor": 2
}
