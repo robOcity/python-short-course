{
 "cells": [
  {
   "cell_type": "markdown",
   "metadata": {},
   "source": [
    "This notebook will introduce you to some of the basics in the Python language, and Jupyter notebooks.\n",
    "\n",
    "This first cell is called [markdown](https://github.com/adam-p/markdown-here/wiki/Markdown-Cheatsheet), which means you can format it to have different styles, etc.  Try double-clicking inside this cell to see what the raw markdown looks like.  Then press ctrl + enter (maybe cmd + enter on Mac) to execute the cell in-place.  Then press enter again to 'enter' the cell.  Next try pressing shift + enter to execute the cell, and move on to the next one."
   ]
  },
  {
   "cell_type": "code",
   "execution_count": 1,
   "metadata": {},
   "outputs": [
    {
     "name": "stdout",
     "output_type": "stream",
     "text": [
      "testing the jupyter notebook\n"
     ]
    }
   ],
   "source": [
    "# This is a normal code cell.  When we run this cell, it will output the result of our last line of code\n",
    "# to the screen just below the cell.  Select this cell (click in it) and press shift + enter to execute it.\n",
    "print('testing the jupyter notebook')"
   ]
  },
  {
   "cell_type": "markdown",
   "metadata": {},
   "source": [
    "# Navigation with the keyboard\n",
    "There are lots of shortcuts in Jupyter notebooks to speed up your workflow.  You should now have this cell selected, meaning it should be surrounded by a blue outline.  Press the up and down arrow keys to navigate to the cells above and below this one.  Now navigate to this cell again, so it has a blue outline.  Press the y key, and then the m key.  The 'y' key will change the cell to a code cell, and 'm' will change it back to a markdown cell.  This is a quick way to convert cells.  \n",
    "\n",
    "Now press 'enter' to enter the cell.  The cursor should be in the cell, and you can navigate around.  Press the up arrow key until you are in the cell above.  You can navigate line-by-line between cells like that.  Finally, press 'esc' to exit the cell.  Now press ctrl + enter (cmd + enter on Mac maybe) to execute the cell in-place."
   ]
  },
  {
   "cell_type": "markdown",
   "metadata": {},
   "source": [
    "# Other keyboard shortcuts\n",
    "\n",
    "Try pressing 'a' and 'b' now.  a will insert a cell above the currently selected cell, and b will insert one below.  Now select on of the empty cells by moving to it with the arrow keys (make sure you are not 'in' the cell, i.e. press esc if the cursor is visible), and press d twice.  This will delete the cell.\n",
    "\n",
    "There are a lot of keyboard shortcuts.  If you are not within a cell, you can press 'h' to see the list of shortcuts.  You can also go to Help -> Keyboard Shortcuts in the menu at the top.  There are a lot of keyboard shortcuts, but the introduction just now was the essentials.  Feel free to check out the list of keyboard shortcuts and use more that you like."
   ]
  },
  {
   "cell_type": "markdown",
   "metadata": {},
   "source": [
    "TODO: add basic datatypes like int, float, string, arithmetic, operators"
   ]
  },
  {
   "cell_type": "markdown",
   "metadata": {},
   "source": [
    "# Strings\n",
    "\n",
    "A string is..."
   ]
  },
  {
   "cell_type": "code",
   "execution_count": null,
   "metadata": {},
   "outputs": [],
   "source": []
  },
  {
   "cell_type": "markdown",
   "metadata": {},
   "source": [
    "Python allows for some nice operations with strings.  We can add them together to join strings:"
   ]
  },
  {
   "cell_type": "code",
   "execution_count": 20,
   "metadata": {},
   "outputs": [
    {
     "data": {
      "text/plain": [
       "'abcdef'"
      ]
     },
     "execution_count": 20,
     "metadata": {},
     "output_type": "execute_result"
    }
   ],
   "source": [
    "'abc' + 'def'"
   ]
  },
  {
   "cell_type": "code",
   "execution_count": 4,
   "metadata": {},
   "outputs": [
    {
     "name": "stdout",
     "output_type": "stream",
     "text": [
      "1\n",
      "2\n",
      "3\n",
      "4\n"
     ]
    }
   ],
   "source": [
    "# Now we will look at some basic Python data structures.  The foundation for Python data structures is the list.\n",
    "# This is a datatype that is enclosed in brackets, like so:\n",
    "\n",
    "test_list = [1, 2, 3, 4]\n",
    "\n",
    "# We can iterate through lists like this:\n",
    "for t in test_list:\n",
    "    print(t)"
   ]
  },
  {
   "cell_type": "code",
   "execution_count": 6,
   "metadata": {},
   "outputs": [
    {
     "data": {
      "text/plain": [
       "[0, 1, 2, 3, 4, 5, 6, 7, 8, 9]"
      ]
     },
     "execution_count": 6,
     "metadata": {},
     "output_type": "execute_result"
    }
   ],
   "source": [
    "# Lists can also be appended to, which means we add a new element at the end.\n",
    "# We can start with a blank list, and keep adding to it:\n",
    "another_list = []\n",
    "for i in range(10):\n",
    "    another_list.append(i)\n",
    "\n",
    "\n",
    "# putting the variable at the end of the cell prints out that variable\n",
    "another_list"
   ]
  },
  {
   "cell_type": "code",
   "execution_count": 7,
   "metadata": {},
   "outputs": [
    {
     "data": {
      "text/plain": [
       "list"
      ]
     },
     "execution_count": 7,
     "metadata": {},
     "output_type": "execute_result"
    }
   ],
   "source": [
    "# If you're unsure of what type of variable something is, you can check with type():\n",
    "type(another_list)"
   ]
  },
  {
   "cell_type": "markdown",
   "metadata": {},
   "source": [
    "# Functions\n",
    "Functions in programming are essential.  Without them, we would have to repeat everything we do.  Functions encapsulate a block of code, and allow us to run it in one line.  Here is an example of a function that creates the same list as we did above:"
   ]
  },
  {
   "cell_type": "code",
   "execution_count": 18,
   "metadata": {},
   "outputs": [],
   "source": [
    "def make_list():\n",
    "    another_list = []\n",
    "    for i in range(10):\n",
    "        another_list.append(i)\n",
    "    \n",
    "    return another_list"
   ]
  },
  {
   "cell_type": "code",
   "execution_count": 15,
   "metadata": {},
   "outputs": [
    {
     "data": {
      "text/plain": [
       "[0, 1, 2, 3, 4, 5, 6, 7, 8, 9]"
      ]
     },
     "execution_count": 15,
     "metadata": {},
     "output_type": "execute_result"
    }
   ],
   "source": [
    "make_list()"
   ]
  },
  {
   "cell_type": "markdown",
   "metadata": {},
   "source": [
    "Functions start with 'def', then a space, then we write the function name, then the name is followed by parenthesis and a colon.  We put our code for the function starting on the next line, and it must be indented by one tab (which will autocomplete to 4 spaces, usually).  Finally, if we want the function to return something, we put a return statement (the word return followed by what we want to return).\n",
    "\n",
    "Functions can also take arguments.  These are options for the function.  Here is the same function, but with an argument for the length of the list:"
   ]
  },
  {
   "cell_type": "code",
   "execution_count": 16,
   "metadata": {},
   "outputs": [],
   "source": [
    "def make_list_with_arg(list_length=10):\n",
    "    another_list = []\n",
    "    for i in range(list_length):\n",
    "        another_list.append(i)\n",
    "    \n",
    "    return another_list "
   ]
  },
  {
   "cell_type": "code",
   "execution_count": 17,
   "metadata": {},
   "outputs": [
    {
     "data": {
      "text/plain": [
       "[0, 1, 2, 3, 4, 5, 6, 7, 8, 9, 10, 11, 12, 13, 14, 15, 16, 17, 18, 19]"
      ]
     },
     "execution_count": 17,
     "metadata": {},
     "output_type": "execute_result"
    }
   ],
   "source": [
    "make_list_with_arg(list_length=20)"
   ]
  },
  {
   "cell_type": "markdown",
   "metadata": {},
   "source": [
    "The list_length is our only argument.  We gave it a default of 10, but we don't have to give it a default.  If it has a default, we don't need to actually supply that argument for the function to work:"
   ]
  },
  {
   "cell_type": "code",
   "execution_count": 19,
   "metadata": {},
   "outputs": [
    {
     "data": {
      "text/plain": [
       "[0, 1, 2, 3, 4, 5, 6, 7, 8, 9]"
      ]
     },
     "execution_count": 19,
     "metadata": {},
     "output_type": "execute_result"
    }
   ],
   "source": [
    "make_list_with_arg()"
   ]
  }
 ],
 "metadata": {
  "kernelspec": {
   "display_name": "Python 3",
   "language": "python",
   "name": "python3"
  },
  "language_info": {
   "codemirror_mode": {
    "name": "ipython",
    "version": 3
   },
   "file_extension": ".py",
   "mimetype": "text/x-python",
   "name": "python",
   "nbconvert_exporter": "python",
   "pygments_lexer": "ipython3",
   "version": "3.6.5"
  }
 },
 "nbformat": 4,
 "nbformat_minor": 2
}
