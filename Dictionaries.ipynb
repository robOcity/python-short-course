{
 "cells": [
  {
   "cell_type": "markdown",
   "metadata": {},
   "source": [
    "# Dictionaries\n",
    "Dictionaries provide a convenient way to store values and look them up easily and efficiently.  If you used a list, you would have to iterate over potentially the whole list.  As the the size of your data grows, dictionaries make more and more sense.  "
   ]
  },
  {
   "cell_type": "code",
   "execution_count": 2,
   "metadata": {
    "collapsed": true
   },
   "outputs": [],
   "source": [
    "# dictionary of color and their hex-code for use in web documents \n",
    "colors = {'red':'#ff0000', 'green':'#00ff00', 'blue':'#0000ff'}"
   ]
  },
  {
   "cell_type": "code",
   "execution_count": 3,
   "metadata": {
    "collapsed": false
   },
   "outputs": [
    {
     "name": "stdout",
     "output_type": "stream",
     "text": [
      "blue green red "
     ]
    }
   ],
   "source": [
    "for color in sorted(colors):\n",
    "    print(color, end= ' ')"
   ]
  },
  {
   "cell_type": "code",
   "execution_count": 4,
   "metadata": {
    "collapsed": false
   },
   "outputs": [
    {
     "name": "stdout",
     "output_type": "stream",
     "text": [
      "{'red': '#ff0000', 'green': '#00ff00', 'blue': '#0000ff', 'brown': '#ffff00', 'purple': '#ff00ff'}\n"
     ]
    }
   ],
   "source": [
    "colors['brown'] = '#ffff00'\n",
    "colors['purple'] = '#ff00ff'\n",
    "print(colors)"
   ]
  },
  {
   "cell_type": "code",
   "execution_count": 5,
   "metadata": {
    "collapsed": false
   },
   "outputs": [
    {
     "data": {
      "text/plain": [
       "'#ff00ff'"
      ]
     },
     "execution_count": 5,
     "metadata": {},
     "output_type": "execute_result"
    }
   ],
   "source": [
    "# look up key values\n",
    "colors['purple']"
   ]
  },
  {
   "cell_type": "code",
   "execution_count": 6,
   "metadata": {},
   "outputs": [
    {
     "ename": "KeyError",
     "evalue": "'cyan'",
     "output_type": "error",
     "traceback": [
      "\u001b[0;31m---------------------------------------------------------------------------\u001b[0m",
      "\u001b[0;31mKeyError\u001b[0m                                  Traceback (most recent call last)",
      "\u001b[0;32m<ipython-input-6-0b3427e73375>\u001b[0m in \u001b[0;36m<module>\u001b[0;34m()\u001b[0m\n\u001b[1;32m      1\u001b[0m \u001b[0;31m# ... but if the value doesn't exist\u001b[0m\u001b[0;34m\u001b[0m\u001b[0;34m\u001b[0m\u001b[0m\n\u001b[0;32m----> 2\u001b[0;31m \u001b[0mcolors\u001b[0m\u001b[0;34m[\u001b[0m\u001b[0;34m'cyan'\u001b[0m\u001b[0;34m]\u001b[0m\u001b[0;34m\u001b[0m\u001b[0m\n\u001b[0m",
      "\u001b[0;31mKeyError\u001b[0m: 'cyan'"
     ]
    }
   ],
   "source": [
    "# ... but if the value is not one of the keys, then you get an ERROR and your program crashes\n",
    "colors['cyan']  "
   ]
  },
  {
   "cell_type": "code",
   "execution_count": 7,
   "metadata": {
    "collapsed": false
   },
   "outputs": [
    {
     "name": "stdout",
     "output_type": "stream",
     "text": [
      "Sorry that color is not available\n"
     ]
    },
    {
     "data": {
      "text/plain": [
       "'Sorry that color is not available'"
      ]
     },
     "execution_count": 7,
     "metadata": {},
     "output_type": "execute_result"
    }
   ],
   "source": [
    "# a BETTER way to look up a color that may NOT be in the dictionary\n",
    "if 'cyan' in colors:\n",
    "    print(colors['cyan'])\n",
    "else: \n",
    "    print('Sorry that color is not available')\n",
    "    \n",
    "# another fail-safe lookup is using get()\n",
    "colors.get('cyan', 'Sorry that color is not available')"
   ]
  },
  {
   "cell_type": "code",
   "execution_count": 8,
   "metadata": {},
   "outputs": [],
   "source": [
    "# the BEST way to look up a dictionary value --> Use get(key)\n",
    "colors.get('cyan')"
   ]
  },
  {
   "cell_type": "code",
   "execution_count": 10,
   "metadata": {
    "collapsed": false
   },
   "outputs": [
    {
     "name": "stdout",
     "output_type": "stream",
     "text": [
      "red #ff0000\n",
      "green #00ff00\n",
      "blue #0000ff\n",
      "brown #ffff00\n",
      "purple #ff00ff\n"
     ]
    }
   ],
   "source": [
    "# items returns a list of key, value pairs \n",
    "for key, value in colors.items():\n",
    "    print(key, value)"
   ]
  },
  {
   "cell_type": "code",
   "execution_count": 11,
   "metadata": {
    "collapsed": false
   },
   "outputs": [],
   "source": [
    "# getting  the keys from the dictionary\n",
    "print(colors.keys(), type(colors.keys()))"
   ]
  },
  {
   "cell_type": "code",
   "execution_count": 11,
   "metadata": {
    "collapsed": false
   },
   "outputs": [],
   "source": [
    "# iterating over the keys\n",
    "for color in colors.keys():\n",
    "    print(color)"
   ]
  },
  {
   "cell_type": "code",
   "execution_count": 12,
   "metadata": {
    "collapsed": false
   },
   "outputs": [
    {
     "ename": "TypeError",
     "evalue": "'dict_keys' object does not support indexing",
     "output_type": "error",
     "traceback": [
      "\u001b[0;31m---------------------------------------------------------------------------\u001b[0m",
      "\u001b[0;31mTypeError\u001b[0m                                 Traceback (most recent call last)",
      "\u001b[0;32m<ipython-input-12-a2f22b82d590>\u001b[0m in \u001b[0;36m<module>\u001b[0;34m()\u001b[0m\n\u001b[1;32m      1\u001b[0m \u001b[0;31m# while it seems like a list, its NOT\u001b[0m\u001b[0;34m\u001b[0m\u001b[0;34m\u001b[0m\u001b[0m\n\u001b[1;32m      2\u001b[0m \u001b[0mmy_colors\u001b[0m \u001b[0;34m=\u001b[0m \u001b[0mcolors\u001b[0m\u001b[0;34m.\u001b[0m\u001b[0mkeys\u001b[0m\u001b[0;34m(\u001b[0m\u001b[0;34m)\u001b[0m\u001b[0;34m\u001b[0m\u001b[0m\n\u001b[0;32m----> 3\u001b[0;31m \u001b[0mmy_colors\u001b[0m\u001b[0;34m[\u001b[0m\u001b[0;36m0\u001b[0m\u001b[0;34m]\u001b[0m\u001b[0;34m\u001b[0m\u001b[0m\n\u001b[0m",
      "\u001b[0;31mTypeError\u001b[0m: 'dict_keys' object does not support indexing"
     ]
    }
   ],
   "source": [
    "# while it seems like a list, its NOT, so you get an ERROR\n",
    "my_colors = colors.keys()\n",
    "print(type(my_colors))\n",
    "my_colors[0]  # error happens here"
   ]
  },
  {
   "cell_type": "code",
   "execution_count": 13,
   "metadata": {},
   "outputs": [
    {
     "data": {
      "text/plain": [
       "'red'"
      ]
     },
     "execution_count": 13,
     "metadata": {},
     "output_type": "execute_result"
    }
   ],
   "source": [
    "# the solution is easy, transform the keys into a list\n",
    "my_colors = list(my_colors)\n",
    "my_colors[0]"
   ]
  },
  {
   "cell_type": "code",
   "execution_count": 16,
   "metadata": {
    "collapsed": false
   },
   "outputs": [
    {
     "data": {
      "text/plain": [
       "[7, 11]"
      ]
     },
     "execution_count": 16,
     "metadata": {},
     "output_type": "execute_result"
    }
   ],
   "source": [
    "# imagine creating an index for book\n",
    "# index using words as keys and the values are the pages where the words are found\n",
    "index = {'example':[7, 10], 'index':[7], 'program':[7, 11]}\n",
    "\n",
    "# how do we get values out of here?\n",
    "index['program']"
   ]
  },
  {
   "cell_type": "code",
   "execution_count": 18,
   "metadata": {
    "collapsed": false
   },
   "outputs": [
    {
     "name": "stdout",
     "output_type": "stream",
     "text": [
      "7\n",
      "11\n"
     ]
    }
   ],
   "source": [
    "# Now let's drill down one more level\n",
    "# to do that we need one set of brackets for each level of nesting\n",
    "print(index['program'][0])   # first element\n",
    "print(index['program'][-1])  # last element"
   ]
  },
  {
   "cell_type": "code",
   "execution_count": 22,
   "metadata": {
    "collapsed": false
   },
   "outputs": [
    {
     "name": "stdout",
     "output_type": "stream",
     "text": [
      "cities: {'CO': ['Denver', 'Lakewood', 'Boulder', 'Westminster', 'Grand Junction'], 'WY': ['Casper', 'Larime', 'Rock Springs']}\n",
      "colorado: ['Denver', 'Lakewood', 'Boulder', 'Westminster', 'Grand Junction']\n",
      "4th city Westminster\n"
     ]
    }
   ],
   "source": [
    "# another example of how to access nested information\n",
    "state_stuff = {\n",
    "    'rectangular-states':{'CO':'Colorado',' WY': 'Wyoming', 'UT':'Utah'},\n",
    "    'cities': {\n",
    "        'CO':['Denver', 'Lakewood', 'Boulder', 'Westminster', 'Grand Junction'],\n",
    "        'WY': ['Casper', 'Larime', 'Rock Springs']}}\n",
    "\n",
    "# lookup of level-1 info -- requires 1 set of braces\n",
    "print('cities:', state_stuff['cities'])\n",
    "\n",
    "# lookup of level-2 info -- requires 2 sets of braces\n",
    "print('colorado:', state_stuff['cities']['CO'])\n",
    "\n",
    "# lookup of level-3 info -- requires 3 sets of braces\n",
    "print('4th city', state_stuff['cities']['CO'][3])"
   ]
  },
  {
   "cell_type": "code",
   "execution_count": 27,
   "metadata": {
    "collapsed": false
   },
   "outputs": [
    {
     "name": "stdout",
     "output_type": "stream",
     "text": [
      "{'CO': 'Colorado', ' WY': 'Wyoming', 'UT': 'Utah'}\n"
     ]
    }
   ],
   "source": [
    "# extracting the rectangular states\n",
    "rect_state = state_stuff['rectangular-states']\n",
    "print(rect_state)"
   ]
  },
  {
   "cell_type": "code",
   "execution_count": 28,
   "metadata": {
    "collapsed": false
   },
   "outputs": [
    {
     "name": "stdout",
     "output_type": "stream",
     "text": [
      "Colorado\n"
     ]
    }
   ],
   "source": [
    "# extracting a city from rectangular-states dictionary within a dictionary\n",
    "state_name = state_stuff['rectangular-states']['CO']\n",
    "print(state_name)"
   ]
  }
 ],
 "metadata": {
  "kernelspec": {
   "display_name": "Python [default]",
   "language": "python",
   "name": "python3"
  },
  "language_info": {
   "codemirror_mode": {
    "name": "ipython",
    "version": 3
   },
   "file_extension": ".py",
   "mimetype": "text/x-python",
   "name": "python",
   "nbconvert_exporter": "python",
   "pygments_lexer": "ipython3",
   "version": "3.6.4"
  }
 },
 "nbformat": 4,
 "nbformat_minor": 2
}
